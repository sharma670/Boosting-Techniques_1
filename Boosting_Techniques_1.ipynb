{
  "nbformat": 4,
  "nbformat_minor": 0,
  "metadata": {
    "colab": {
      "provenance": []
    },
    "kernelspec": {
      "name": "python3",
      "display_name": "Python 3"
    },
    "language_info": {
      "name": "python"
    }
  },
  "cells": [
    {
      "cell_type": "markdown",
      "source": [
        "Question 1: What is Boosting in Machine Learning? Explain how it improves weak\n",
        "learners.\n"
      ],
      "metadata": {
        "id": "cKfrQG-R9EOx"
      }
    },
    {
      "cell_type": "markdown",
      "source": [
        "-  Boosting\n",
        "\n",
        "- Boosting trains models sequentially.\n",
        "\n",
        "- Each new model focuses on the errors (misclassified data points) made by the previous models.\n",
        "\n",
        "- By giving more weight to difficult cases, boosting reduces bias and variance.\n",
        "\n",
        "- Weak Learner\n",
        "\n",
        "- A weak learner is a model that performs just slightly better than random guessing.\n",
        "Example: A decision stump (a decision tree with only 1 split).\n",
        "\n",
        "-  How Boosting Works (Step-by-Step):\n",
        "\n",
        "- Initialize: Train a weak learner (e.g., a small decision tree) on the dataset.\n",
        "\n",
        "- Evaluate errors: Find where the model predicted incorrectly.\n",
        "\n",
        "- Re-weight samples: Give higher weight to the misclassified samples.\n",
        "\n",
        "- Train new learner: The next weak learner focuses more on the difficult points.\n",
        "\n",
        "- Combine learners: Final prediction is a weighted majority vote (classification) or weighted average (regression) of all learners.\n",
        "\n",
        "-  How it Improves Weak Learners:\n",
        "\n",
        "- Individually, weak learners are not very accurate.\n",
        "\n",
        "- By training multiple weak learners on different \"views\" of the data (with weights adjusted), boosting reduces bias and turns weak learners into a strong predictor.\n",
        "\n",
        "- The final model is much more powerful than a single weak learner.\n",
        "\n",
        "-  Popular Boosting Algorithms:\n",
        "\n",
        "- AdaBoost (Adaptive Boosting) – Adjusts weights of misclassified samples.\n",
        "\n",
        "- Gradient Boosting – Optimizes errors by using gradient descent.\n",
        "\n",
        "- XGBoost, LightGBM, CatBoost – Advanced, faster, and more accurate versions.\n"
      ],
      "metadata": {
        "id": "sJxjXtNu9NzP"
      }
    },
    {
      "cell_type": "markdown",
      "source": [
        "Question 2: What is the difference between AdaBoost and Gradient Boosting in terms\n",
        "of how models are trained?"
      ],
      "metadata": {
        "id": "qkScqLNo_NO6"
      }
    },
    {
      "cell_type": "markdown",
      "source": [
        "1. AdaBoost (Adaptive Boosting):\n",
        "\n",
        "- AdaBoost works by assigning weights to training samples.\n",
        "\n",
        "- After each round, misclassified samples get higher weights so that the next weak learner focuses more on those difficult cases.\n",
        "\n",
        "- The final model combines weak learners using a weighted majority vote (for classification) or weighted sum (for regression).\n",
        "\n",
        "- Key Point: AdaBoost adjusts data weights.\n",
        "\n",
        "2. Gradient Boosting:\n",
        "\n",
        "- Gradient Boosting builds models sequentially by fitting each new learner on the residual errors (difference between actual and predicted values) of the previous model.\n",
        "\n",
        "- It uses gradient descent optimization to minimize the loss function.\n",
        "\n",
        "- Each weak learner tries to correct the mistakes by reducing the overall error step by step.\n",
        "\n",
        "- Key Point: Gradient Boosting adjusts errors using gradients\n",
        "\n",
        "\n",
        "| **Aspect**     | **AdaBoost**                               | **Gradient Boosting**                        |\n",
        "| -------------- | ------------------------------------------ | -------------------------------------------- |\n",
        "| Error Handling | Increases weights of misclassified samples | Fits on residual errors of previous learners |\n",
        "| Optimization   | No gradient descent used                   | Uses gradient descent to minimize loss       |\n",
        "| Focus          | Misclassified points                       | Residual errors (loss function)              |\n",
        "| Simplicity     | Easier to understand and implement         | More complex but more flexible and powerful  |\n"
      ],
      "metadata": {
        "id": "34oA9oc1_fxi"
      }
    },
    {
      "cell_type": "markdown",
      "source": [
        "Question 3: How does regularization help in XGBoost?"
      ],
      "metadata": {
        "id": "uM7oQdq-AI3N"
      }
    },
    {
      "cell_type": "markdown",
      "source": [
        "1. What is Regularization?\n",
        "\n",
        "- Regularization is a method to penalize complex models so that the model does not overfit the training data.\n",
        "\n",
        "- It adds a penalty term to the loss function, which discourages overly complex trees.\n",
        "\n",
        "2. Regularization in XGBoost:\n",
        "\n",
        "- XGBoost includes two regularization parameters in its objective function:\n",
        "\n",
        "- L1 Regularization (Lasso penalty):\n",
        "\n",
        "- Adds penalty on the absolute value of leaf weights.\n",
        "\n",
        "- Helps in feature selection by forcing some weights to become zero.\n",
        "\n",
        "- L2 Regularization (Ridge penalty):\n",
        "\n",
        "- Adds penalty on the square of leaf weights.\n",
        "\n",
        "- Helps in smoothing the model and avoids too large values of weights.\n",
        "\n",
        "3. How Regularization Helps:\n",
        "\n",
        "- Prevents Overfitting – Stops the model from becoming too complex by penalizing large weights.\n",
        "\n",
        "- Improves Generalization – Ensures that the model performs well on unseen test data.\n",
        "\n",
        "- Controls Tree Complexity – Regularization limits the growth of decision trees (depth, leaf weights).\n",
        "\n",
        "- Balances Bias and Variance – Achieves better trade-off between underfitting and overfitting."
      ],
      "metadata": {
        "id": "msgspB2BASra"
      }
    },
    {
      "cell_type": "markdown",
      "source": [
        "Question 4: Why is CatBoost considered efficient for handling categorical data?"
      ],
      "metadata": {
        "id": "xvLCeJHkA3jl"
      }
    },
    {
      "cell_type": "markdown",
      "source": [
        "- CatBoost is a boosting algorithm developed by Yandex, specially designed to handle categorical features efficiently. Unlike other boosting methods (like XGBoost or LightGBM), CatBoost directly processes categorical data without requiring complex preprocessing.\n",
        "\n",
        "1. Traditional Handling of Categorical Data:\n",
        "\n",
        "- Normally, categorical variables are converted into numbers using techniques like:\n",
        "\n",
        "- One-Hot Encoding (creates too many columns).\n",
        "\n",
        "- Label Encoding (may introduce false order).\n",
        "\n",
        "- These methods are time-consuming and may lead to loss of information.\n",
        "\n",
        "2. How CatBoost Handles Categorical Data Efficiently:\n",
        "\n",
        "- Target-Based Encoding (with Statistics):\n",
        "\n",
        "- CatBoost transforms categorical features into numerical values based on target statistics (e.g., mean of the target variable for each category).\n",
        "\n",
        "- It uses ordered boosting to avoid overfitting while calculating these statistics.\n",
        "\n",
        "- No Need for Extensive Preprocessing:\n",
        "\n",
        "- Categorical features can be directly passed to the model (as text or numbers).\n",
        "\n",
        "- Saves time and reduces manual work.\n",
        "\n",
        "- Efficient with High-Cardinality Features:\n",
        "\n",
        "- Works well even when a categorical column has thousands of unique values (like “user ID” or “product ID”).\n",
        "\n",
        "- Reduces Overfitting:\n",
        "\n",
        "- By using ordered statistics and random permutations, CatBoost avoids target leakage."
      ],
      "metadata": {
        "id": "xNnhdHnkBF8o"
      }
    },
    {
      "cell_type": "markdown",
      "source": [
        "Question 5: What are some real-world applications where boosting techniques are\n",
        "preferred over bagging methods?"
      ],
      "metadata": {
        "id": "ZMuyzUvRB1Zg"
      }
    },
    {
      "cell_type": "markdown",
      "source": [
        "- Both bagging (like Random Forest) and boosting (like AdaBoost, Gradient Boosting, XGBoost, CatBoost) are ensemble methods.\n",
        "\n",
        "- Bagging reduces variance by training models in parallel.\n",
        "\n",
        "- Boosting reduces bias and variance by training models sequentially, focusing on difficult samples.\n",
        "\n",
        "- In many real-world scenarios where high accuracy and handling complex patterns are required, boosting methods are preferred.\n",
        "\n",
        "1. Healthcare and Medical Diagnosis\n",
        "\n",
        "- Boosting models (like XGBoost, LightGBM) are used for predicting diseases such as cancer detection, diabetes prediction, and patient readmission risk.\n",
        "\n",
        "- Preferred because they handle imbalanced datasets and small but important signals better than bagging.\n",
        "\n",
        "2. Finance and Banking\n",
        "\n",
        "- Fraud detection in credit card transactions.\n",
        "\n",
        "- Loan default prediction and credit scoring.\n",
        "\n",
        "- Boosting is effective here since fraud cases are rare (imbalanced data) and boosting focuses on hard-to-classify cases.\n",
        "\n",
        "3. E-commerce and Marketing\n",
        "\n",
        "- Customer churn prediction (which customers will leave).\n",
        "\n",
        "- Personalized product recommendations.\n",
        "\n",
        "- Boosting improves performance because it captures non-linear relationships in customer behavior.\n",
        "\n",
        "4. Natural Language Processing (NLP)\n",
        "\n",
        "- Spam email detection.\n",
        "\n",
        "- Sentiment analysis.\n",
        "\n",
        "- Boosting handles high-dimensional data (like text) better than bagging.\n",
        "\n",
        "5. Image Recognition and Computer Vision\n",
        "\n",
        "- Face detection (AdaBoost was one of the earliest successful methods).\n",
        "\n",
        "- Medical image classification.\n",
        "\n",
        "- Boosting works well for object detection tasks where accuracy is crucial.\n",
        "\n",
        "\n",
        "\n",
        "| **Domain** | **Bagging (Random Forest)**    | **Boosting (XGBoost/LightGBM/CatBoost)**       |\n",
        "| ---------- | ------------------------------ | ---------------------------------------------- |\n",
        "| Healthcare | General disease classification | Cancer, diabetes, rare disease prediction      |\n",
        "| Finance    | Basic credit risk models       | Fraud detection, credit scoring                |\n",
        "| Marketing  | Customer segmentation          | Churn prediction, personalized recommendations |\n",
        "| NLP        | Simple text classification     | Spam detection, sentiment analysis             |\n",
        "| Vision     | Basic image tasks              | Face detection, medical imaging                |\n"
      ],
      "metadata": {
        "id": "AA1v9uxFB5nm"
      }
    },
    {
      "cell_type": "markdown",
      "source": [
        "Question 6: Write a Python program to:\n",
        "● Train an AdaBoost Classifier on the Breast Cancer dataset\n",
        "● Print the model accuracy\n"
      ],
      "metadata": {
        "id": "q-dSpBmRCms9"
      }
    },
    {
      "cell_type": "code",
      "source": [
        "from sklearn.datasets import load_breast_cancer\n",
        "from sklearn.model_selection import train_test_split\n",
        "from sklearn.ensemble import AdaBoostClassifier\n",
        "from sklearn.metrics import accuracy_score, classification_report\n",
        "\n",
        "data = load_breast_cancer()\n",
        "X = data.data\n",
        "y = data.target\n",
        "\n",
        "X_train, X_test, y_train, y_test = train_test_split(\n",
        "    X, y, test_size=0.20, random_state=42, stratify=y\n",
        ")\n",
        "\n",
        "model = AdaBoostClassifier(n_estimators=50, random_state=42)\n",
        "model.fit(X_train, y_train)\n",
        "\n",
        "y_pred = model.predict(X_test)\n",
        "accuracy = accuracy_score(y_test, y_pred)\n",
        "\n",
        "print(\"Model: AdaBoostClassifier\")\n",
        "print(\"Dataset: sklearn.datasets.load_breast_cancer()\")\n",
        "print(f\"Train samples: {X_train.shape[0]}, Test samples: {X_test.shape[0]}\")\n",
        "print(f\"Test set accuracy: {accuracy:.4f}\")\n",
        "print(\"\\nClassification report:\\n\")\n",
        "print(classification_report(y_test, y_pred, target_names=data.target_names))\n"
      ],
      "metadata": {
        "colab": {
          "base_uri": "https://localhost:8080/"
        },
        "id": "mdUbXsjeAUdk",
        "outputId": "fa6d96ce-1eac-4167-d00f-6aa0e1367a46"
      },
      "execution_count": 1,
      "outputs": [
        {
          "output_type": "stream",
          "name": "stdout",
          "text": [
            "Model: AdaBoostClassifier\n",
            "Dataset: sklearn.datasets.load_breast_cancer()\n",
            "Train samples: 455, Test samples: 114\n",
            "Test set accuracy: 0.9561\n",
            "\n",
            "Classification report:\n",
            "\n",
            "              precision    recall  f1-score   support\n",
            "\n",
            "   malignant       0.97      0.90      0.94        42\n",
            "      benign       0.95      0.99      0.97        72\n",
            "\n",
            "    accuracy                           0.96       114\n",
            "   macro avg       0.96      0.95      0.95       114\n",
            "weighted avg       0.96      0.96      0.96       114\n",
            "\n"
          ]
        }
      ]
    },
    {
      "cell_type": "markdown",
      "source": [
        "Question 7: Write a Python program to:\n",
        "● Train a Gradient Boosting Regressor on the California Housing dataset\n",
        "● Evaluate performance using R-squared score.\n"
      ],
      "metadata": {
        "id": "m_RNzKNb_fds"
      }
    },
    {
      "cell_type": "code",
      "source": [
        "from sklearn.datasets import fetch_california_housing\n",
        "from sklearn.model_selection import train_test_split\n",
        "from sklearn.ensemble import GradientBoostingRegressor\n",
        "from sklearn.metrics import r2_score\n",
        "\n",
        "data = fetch_california_housing()\n",
        "X = data.data\n",
        "y = data.target\n",
        "\n",
        "X_train, X_test, y_train, y_test = train_test_split(\n",
        "    X, y, test_size=0.20, random_state=42\n",
        ")\n",
        "\n",
        "model = GradientBoostingRegressor(n_estimators=200, learning_rate=0.1, random_state=42)\n",
        "model.fit(X_train, y_train)\n",
        "\n",
        "y_pred = model.predict(X_test)\n",
        "r2 = r2_score(y_test, y_pred)\n",
        "\n",
        "print(\"Model: GradientBoostingRegressor\")\n",
        "print(\"Dataset: sklearn.datasets.fetch_california_housing()\")\n",
        "print(f\"Train samples: {X_train.shape[0]}, Test samples: {X_test.shape[0]}\")\n",
        "print(f\"R-squared score: {r2:.4f}\")\n"
      ],
      "metadata": {
        "colab": {
          "base_uri": "https://localhost:8080/"
        },
        "id": "toQ7DO2DA71p",
        "outputId": "fbc378ab-986d-48ff-82ee-db74df442a28"
      },
      "execution_count": 2,
      "outputs": [
        {
          "output_type": "stream",
          "name": "stdout",
          "text": [
            "Model: GradientBoostingRegressor\n",
            "Dataset: sklearn.datasets.fetch_california_housing()\n",
            "Train samples: 16512, Test samples: 4128\n",
            "R-squared score: 0.8004\n"
          ]
        }
      ]
    },
    {
      "cell_type": "markdown",
      "source": [
        "Question 8: Write a Python program to:\n",
        "● Train an XGBoost Classifier on the Breast Cancer dataset\n",
        "● Tune the learning rate using GridSearchCV\n",
        "● Print the best parameters and accuracy\n"
      ],
      "metadata": {
        "id": "CpHoBa6gCJV5"
      }
    },
    {
      "cell_type": "code",
      "source": [
        "from sklearn.datasets import load_breast_cancer\n",
        "from sklearn.model_selection import train_test_split, GridSearchCV\n",
        "from sklearn.metrics import accuracy_score\n",
        "import warnings\n",
        "warnings.filterwarnings('ignore')\n",
        "from xgboost import XGBClassifier\n",
        "\n",
        "data = load_breast_cancer()\n",
        "X = data.data\n",
        "y = data.target\n",
        "\n",
        "X_train, X_test, y_train, y_test = train_test_split(\n",
        "    X, y, test_size=0.20, random_state=42, stratify=y\n",
        ")\n",
        "\n",
        "xgb = XGBClassifier(use_label_encoder=False, eval_metric='logloss', random_state=42)\n",
        "\n",
        "\n",
        "param_grid = {\n",
        "    \"learning_rate\": [0.01, 0.05, 0.1, 0.2]\n",
        "}\n",
        "\n",
        "grid = GridSearchCV(\n",
        "    estimator=xgb,\n",
        "    param_grid=param_grid,\n",
        "    scoring=\"accuracy\",\n",
        "    cv=5,\n",
        "    n_jobs=-1\n",
        ")\n",
        "\n",
        "grid.fit(X_train, y_train)\n",
        "\n",
        "\n",
        "print(\"Best Parameters:\", grid.best_params_)\n",
        "\n",
        "\n",
        "best_model = grid.best_estimator_\n",
        "\n",
        "\n",
        "y_pred = best_model.predict(X_test)\n",
        "\n",
        "\n",
        "accuracy = accuracy_score(y_test, y_pred)\n",
        "print(f\"Test Accuracy: {accuracy:.4f}\")\n"
      ],
      "metadata": {
        "colab": {
          "base_uri": "https://localhost:8080/"
        },
        "id": "KIy2jQruCNPo",
        "outputId": "bdd8655e-e85b-4935-e31d-54282b40ea5d"
      },
      "execution_count": 4,
      "outputs": [
        {
          "output_type": "stream",
          "name": "stdout",
          "text": [
            "Best Parameters: {'learning_rate': 0.1}\n",
            "Test Accuracy: 0.9474\n"
          ]
        }
      ]
    },
    {
      "cell_type": "markdown",
      "source": [
        "Question 9: Write a Python program to:\n",
        "● Train a CatBoost Classifier\n",
        "● Plot the confusion matrix using seaborn.\n"
      ],
      "metadata": {
        "id": "ZZI-9MAoC9z7"
      }
    },
    {
      "cell_type": "code",
      "source": [
        "from sklearn.datasets import load_breast_cancer\n",
        "from sklearn.model_selection import train_test_split\n",
        "from sklearn.metrics import confusion_matrix, accuracy_score\n",
        "from catboost import CatBoostClassifier\n",
        "import seaborn as sns\n",
        "import matplotlib.pyplot as plt\n",
        "\n",
        "data = load_breast_cancer()\n",
        "X = data.data\n",
        "y = data.target\n",
        "\n",
        "X_train, X_test, y_train, y_test = train_test_split(\n",
        "    X, y, test_size=0.20, random_state=42, stratify=y\n",
        ")\n",
        "\n",
        "model = CatBoostClassifier(iterations=200, learning_rate=0.1, depth=6, verbose=0, random_seed=42)\n",
        "\n",
        "model.fit(X_train, y_train)\n",
        "\n",
        "\n",
        "y_pred = model.predict(X_test)\n",
        "\n",
        "\n",
        "acc = accuracy_score(y_test, y_pred)\n",
        "print(f\"Test Accuracy: {acc:.4f}\")\n",
        "\n",
        "\n",
        "cm = confusion_matrix(y_test, y_pred)\n",
        "\n",
        "\n",
        "plt.figure(figsize=(6, 4))\n",
        "sns.heatmap(cm, annot=True, fmt=\"d\", cmap=\"Blues\",\n",
        "            xticklabels=data.target_names,\n",
        "            yticklabels=data.target_names)\n",
        "plt.xlabel(\"Predicted\")\n",
        "plt.ylabel(\"Actual\")\n",
        "plt.title(\"Confusion Matrix - CatBoost Classifier\")\n",
        "plt.show()\n"
      ],
      "metadata": {
        "colab": {
          "base_uri": "https://localhost:8080/",
          "height": 427
        },
        "id": "-zvBZn5wFQba",
        "outputId": "7af7f0a0-53fd-4d44-9ece-d6e1bfe233a9"
      },
      "execution_count": 9,
      "outputs": [
        {
          "output_type": "stream",
          "name": "stdout",
          "text": [
            "Test Accuracy: 0.9737\n"
          ]
        },
        {
          "output_type": "display_data",
          "data": {
            "text/plain": [
              "<Figure size 600x400 with 2 Axes>"
            ],
            "image/png": "[encoded data removed]"
          },
          "metadata": {}
        }
      ]
    },
    {
      "cell_type": "markdown",
      "source": [
        "Question 10: You're working for a FinTech company trying to predict loan default using\n",
        "customer demographics and transaction behavior.\n",
        "The dataset is imbalanced, contains missing values, and has both numeric and\n",
        "categorical features.\n",
        "Describe your step-by-step data science pipeline using boosting techniques:\n",
        "● Data preprocessing & handling missing/categorical values\n",
        "● Choice between AdaBoost, XGBoost, or CatBoost\n",
        "● Hyperparameter tuning strategy\n",
        "● Evaluation metrics you'd choose and why\n",
        "● How the business would benefit from your model\n"
      ],
      "metadata": {
        "id": "fHhAt0JiFr8v"
      }
    },
    {
      "cell_type": "markdown",
      "source": [
        "1. Data ingestion\n",
        "\n",
        "- Load data (CSV / DB).\n",
        "\n",
        "- Basic checks: df.shape, df.info(), df.describe(), target distribution.\n",
        "\n",
        "2. Exploratory Data Analysis (EDA)\n",
        "\n",
        "- Target imbalance check (value_counts(normalize=True)).\n",
        "\n",
        "- Feature distributions, outliers, missingness patterns, correlation.\n",
        "\n",
        "3. Data preprocessing\n",
        "\n",
        "- Missing values\n",
        "\n",
        "- Numeric: SimpleImputer(strategy='median') or leave to model if model handles missing (CatBoost can).\n",
        "\n",
        "- Categorical: SimpleImputer(strategy='most_frequent') or model-handled.\n",
        "\n",
        "- Categorical features\n",
        "\n",
        "- Prefer CatBoost for native categorical handling (no one-hot needed).\n",
        "\n",
        "- If using XGBoost/LightGBM, use OrdinalEncoder or TargetEncoder (careful with leakage) or OneHot for low-cardinality.\n",
        "\n",
        "Scaling\n",
        "\n",
        "- Not required for tree-based boosters.\n",
        "\n",
        "- Train-test split\n",
        "\n",
        "- Stratified split to preserve imbalance: train_test_split(..., stratify=y)\n",
        "\n",
        "4. Address class imbalance\n",
        "\n",
        "Options:\n",
        "\n",
        "- Use model-level parameter: scale_pos_weight (XGBoost), class_weight/auto_class_weights (CatBoost).\n",
        "\n",
        "- Resampling: SMOTE, RandomUnderSampler, or combined. Be careful to do resampling only on training set.\n",
        "\n",
        "- Prefer model-level plus threshold tuning instead of heavy oversampling for production.\n",
        "\n",
        "5. Model choice (AdaBoost / XGBoost / CatBoost)\n",
        "\n",
        "- CatBoost recommended here:\n",
        "\n",
        "- Native categorical handling.\n",
        "\n",
        "- Robust to missing values.\n",
        "\n",
        "- Good default regularization and often good out-of-the-box performance for tabular data.\n",
        "\n",
        "- XGBoost: very strong, faster in some setups, but requires encoding for categoricals and explicit missing-value handling.\n",
        "\n",
        "- AdaBoost: usually weaker for complex tabular with many features — not preferred here.\n",
        "\n",
        "6. Hyperparameter tuning\n",
        "\n",
        "- Use RandomizedSearchCV (faster) then refine with GridSearchCV or Bayesian (Optuna) for best ROI.\n",
        "\n",
        "- Use StratifiedKFold with scoring='roc_auc' (or average_precision if precision-recall more important).\n",
        "\n",
        "- Search space: learning_rate, depth, iterations/estimators, l2_leaf_reg (CatBoost), subsample, colsample_bylevel.\n",
        "\n",
        "- Use early_stopping_rounds during training where supported.\n",
        "\n",
        "7. Evaluation metrics (because data is imbalanced)\n",
        "\n",
        "- Primary: ROC-AUC and PR-AUC (Average Precision) — PR-AUC more informative for imbalanced.\n",
        "\n",
        "- Secondary: Recall (Sensitivity) for positive class (default = defaulter) — business may prefer catching defaulters (higher recall), but need acceptable precision to avoid too many false positives.\n",
        "\n",
        "- Also report: Precision, F1-score, Confusion Matrix, Precision@k (top-k), Calibration curve, and Cost-based metrics (expected loss).\n",
        "\n",
        "- Use threshold tuning (choose threshold maximizing business utility — e.g., maximize expected profit).\n",
        "\n",
        "8. Model explainability & validation\n",
        "\n",
        "- SHAP for global/local explanations.\n",
        "\n",
        "- Partial dependence / feature importance.\n",
        "\n",
        "- Backtesting on time-split if data temporal.\n",
        "\n",
        "9. Deployment & monitoring\n",
        "\n",
        "- Save model (joblib), track data drift, monitor model performance and calibration.\n",
        "\n",
        "- Create business alerting (if model recall drops).\n",
        "\n",
        "10. Business benefit\n",
        "\n",
        "- Reduce default loss by early flagging high-risk customers.\n",
        "\n",
        "- Focus collections/credit-limits/interventions on predicted high-risk customers.\n",
        "\n",
        "- Improve ROI by calibrating threshold for intervention cost vs expected recovery."
      ],
      "metadata": {
        "id": "ZUooqZc7G11s"
      }
    },
    {
      "cell_type": "code",
      "source": [
        "import numpy as np\n",
        "import pandas as pd\n",
        "from sklearn.model_selection import train_test_split, GridSearchCV\n",
        "from sklearn.metrics import classification_report, confusion_matrix, roc_auc_score\n",
        "from xgboost import XGBClassifier\n",
        "import seaborn as sns\n",
        "import matplotlib.pyplot as plt\n",
        "\n",
        "\n",
        "np.random.seed(42)\n",
        "\n",
        "n_samples = 20000\n",
        "df = pd.DataFrame({\n",
        "    \"age\": np.random.randint(18, 70, n_samples),\n",
        "    \"income\": np.random.randint(2000, 10000, n_samples),\n",
        "    \"transactions\": np.random.randint(1, 200, n_samples),\n",
        "    \"region\": np.random.choice([\"North\", \"South\", \"East\", \"West\"], n_samples),\n",
        "    \"gender\": np.random.choice([\"Male\", \"Female\"], n_samples),\n",
        "    \"target\": np.random.choice([0, 1], n_samples, p=[0.92, 0.08])\n",
        "})\n",
        "\n",
        "print(\"Dataset shape:\", df.shape)\n",
        "print(\"Target distribution:\\n\", df['target'].value_counts(normalize=True))\n",
        "\n",
        "\n",
        "rng = np.random.default_rng(42)\n",
        "for col in df.columns:\n",
        "    if col != 'target':\n",
        "        df.loc[rng.random(len(df)) < 0.05, col] = np.nan\n",
        "\n",
        "X = df.drop(columns=['target'])\n",
        "y = df['target'].astype(int)\n",
        "\n",
        "X = pd.get_dummies(X, drop_first=True)\n",
        "\n",
        "for col in X.columns:\n",
        "    if X[col].dtype == 'float64' or X[col].dtype == 'int64':\n",
        "        X[col].fillna(X[col].median(), inplace=True)\n",
        "    else:\n",
        "        X[col].fillna(X[col].mode()[0], inplace=True)\n",
        "\n",
        "X_train, X_test, y_train, y_test = train_test_split(\n",
        "    X, y, test_size=0.2, random_state=42, stratify=y\n",
        ")\n",
        "\n",
        "xgb = XGBClassifier(\n",
        "    eval_metric='logloss',\n",
        "    use_label_encoder=False,\n",
        "    random_state=42,\n",
        "    scale_pos_weight=(y_train.value_counts()[0] / y_train.value_counts()[1])\n",
        ")\n",
        "\n",
        "param_grid = {\n",
        "    \"learning_rate\": [0.01, 0.1, 0.2],\n",
        "    \"max_depth\": [3, 5, 7]\n",
        "}\n",
        "\n",
        "grid = GridSearchCV(\n",
        "    xgb,\n",
        "    param_grid,\n",
        "    scoring='roc_auc',\n",
        "    cv=3,\n",
        "    n_jobs=-1\n",
        ")\n",
        "\n",
        "grid.fit(X_train, y_train)\n",
        "\n",
        "print(\"Best Params:\", grid.best_params_)\n",
        "\n",
        "\n",
        "best_model = grid.best_estimator_\n",
        "y_pred = best_model.predict(X_test)\n",
        "y_proba = best_model.predict_proba(X_test)[:, 1]\n",
        "\n",
        "print(\"\\nClassification Report:\\n\", classification_report(y_test, y_pred))\n",
        "print(\"ROC-AUC Score:\", roc_auc_score(y_test, y_proba))\n",
        "\n",
        "cm = confusion_matrix(y_test, y_pred)\n",
        "plt.figure(figsize=(5,4))\n",
        "sns.heatmap(cm, annot=True, fmt=\"d\", cmap=\"Blues\",\n",
        "            xticklabels=[\"No Default\", \"Default\"],\n",
        "            yticklabels=[\"No Default\", \"Default\"])\n",
        "plt.xlabel(\"Predicted\")\n",
        "plt.ylabel(\"Actual\")\n",
        "plt.title(\"Confusion Matrix - Loan Default (XGBoost)\")\n",
        "plt.show()\n"
      ],
      "metadata": {
        "colab": {
          "base_uri": "https://localhost:8080/",
          "height": 740
        },
        "id": "KO_PckngLqVS",
        "outputId": "044547be-d7fc-4ca4-fb42-fe830639b2f7"
      },
      "execution_count": 11,
      "outputs": [
        {
          "output_type": "stream",
          "name": "stdout",
          "text": [
            "Dataset shape: (20000, 6)\n",
            "Target distribution:\n",
            " target\n",
            "0    0.9161\n",
            "1    0.0839\n",
            "Name: proportion, dtype: float64\n",
            "Best Params: {'learning_rate': 0.2, 'max_depth': 5}\n",
            "\n",
            "Classification Report:\n",
            "               precision    recall  f1-score   support\n",
            "\n",
            "           0       0.92      0.71      0.80      3664\n",
            "           1       0.09      0.31      0.14       336\n",
            "\n",
            "    accuracy                           0.67      4000\n",
            "   macro avg       0.50      0.51      0.47      4000\n",
            "weighted avg       0.85      0.67      0.74      4000\n",
            "\n",
            "ROC-AUC Score: 0.5143074833645249\n"
          ]
        },
        {
          "output_type": "display_data",
          "data": {
            "text/plain": [
              "<Figure size 500x400 with 2 Axes>"
            ],
            "image/png": "[encoded data removed]"
          },
          "metadata": {}
        }
      ]
    }
  ]
}